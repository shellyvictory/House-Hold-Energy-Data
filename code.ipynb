{
  "nbformat": 4,
  "nbformat_minor": 0,
  "metadata": {
    "colab": {
      "name": "Shelly Victory_Second Project",
      "provenance": [],
      "collapsed_sections": []
    },
    "kernelspec": {
      "name": "python3",
      "display_name": "Python 3"
    },
    "language_info": {
      "name": "python"
    }
  },
  "cells": [
    {
      "cell_type": "markdown",
      "metadata": {
        "id": "N8oCJROM7xto"
      },
      "source": [
        "Nama: Shelly Victory;\n",
        "User Name: victorysl;\n",
        "Alamat Email: shellyvicotry92@gmail.com;\n",
        "Dataset source: https://www.kaggle.com/jaganadhg/house-hold-energy-data"
      ]
    },
    {
      "cell_type": "code",
      "metadata": {
        "id": "-OY-Ss6doMWK"
      },
      "source": [
        "import numpy as np\n",
        "from tensorflow.keras.models import Sequential\n",
        "from keras.layers import Dense, LSTM, Flatten, Activation\n",
        "from keras.callbacks import ReduceLROnPlateau\n",
        "from sklearn import preprocessing\n",
        "from sklearn.model_selection import train_test_split\n",
        "from sklearn.preprocessing import MinMaxScaler\n",
        "import tensorflow as tf"
      ],
      "execution_count": 1,
      "outputs": []
    },
    {
      "cell_type": "code",
      "metadata": {
        "colab": {
          "base_uri": "https://localhost:8080/",
          "height": 202
        },
        "id": "NOGygsl9rxlg",
        "outputId": "b5907ebf-1373-483d-8360-f5c2bb235ef0"
      },
      "source": [
        "import os\n",
        "os.listdir('sample_data')\n",
        "import pandas as pd\n",
        "data = pd.read_csv('sample_data/data.csv')\n",
        "del data ['NOTES']\n",
        "data.tail()"
      ],
      "execution_count": 2,
      "outputs": [
        {
          "output_type": "execute_result",
          "data": {
            "text/html": [
              "<div>\n",
              "<style scoped>\n",
              "    .dataframe tbody tr th:only-of-type {\n",
              "        vertical-align: middle;\n",
              "    }\n",
              "\n",
              "    .dataframe tbody tr th {\n",
              "        vertical-align: top;\n",
              "    }\n",
              "\n",
              "    .dataframe thead th {\n",
              "        text-align: right;\n",
              "    }\n",
              "</style>\n",
              "<table border=\"1\" class=\"dataframe\">\n",
              "  <thead>\n",
              "    <tr style=\"text-align: right;\">\n",
              "      <th></th>\n",
              "      <th>TYPE</th>\n",
              "      <th>DATE</th>\n",
              "      <th>START TIME</th>\n",
              "      <th>END TIME</th>\n",
              "      <th>USAGE</th>\n",
              "      <th>UNITS</th>\n",
              "      <th>COST</th>\n",
              "    </tr>\n",
              "  </thead>\n",
              "  <tbody>\n",
              "    <tr>\n",
              "      <th>70363</th>\n",
              "      <td>Electric usage</td>\n",
              "      <td>10/24/2018</td>\n",
              "      <td>22:45</td>\n",
              "      <td>22:59</td>\n",
              "      <td>0.02</td>\n",
              "      <td>kWh</td>\n",
              "      <td>$0.00</td>\n",
              "    </tr>\n",
              "    <tr>\n",
              "      <th>70364</th>\n",
              "      <td>Electric usage</td>\n",
              "      <td>10/24/2018</td>\n",
              "      <td>23:00</td>\n",
              "      <td>23:14</td>\n",
              "      <td>0.03</td>\n",
              "      <td>kWh</td>\n",
              "      <td>$0.01</td>\n",
              "    </tr>\n",
              "    <tr>\n",
              "      <th>70365</th>\n",
              "      <td>Electric usage</td>\n",
              "      <td>10/24/2018</td>\n",
              "      <td>23:15</td>\n",
              "      <td>23:29</td>\n",
              "      <td>0.03</td>\n",
              "      <td>kWh</td>\n",
              "      <td>$0.01</td>\n",
              "    </tr>\n",
              "    <tr>\n",
              "      <th>70366</th>\n",
              "      <td>Electric usage</td>\n",
              "      <td>10/24/2018</td>\n",
              "      <td>23:30</td>\n",
              "      <td>23:44</td>\n",
              "      <td>0.03</td>\n",
              "      <td>kWh</td>\n",
              "      <td>$0.01</td>\n",
              "    </tr>\n",
              "    <tr>\n",
              "      <th>70367</th>\n",
              "      <td>Electric usage</td>\n",
              "      <td>10/24/2018</td>\n",
              "      <td>23:45</td>\n",
              "      <td>23:59</td>\n",
              "      <td>0.03</td>\n",
              "      <td>kWh</td>\n",
              "      <td>$0.01</td>\n",
              "    </tr>\n",
              "  </tbody>\n",
              "</table>\n",
              "</div>"
            ],
            "text/plain": [
              "                 TYPE        DATE START TIME END TIME  USAGE UNITS    COST\n",
              "70363  Electric usage  10/24/2018      22:45    22:59   0.02   kWh  $0.00 \n",
              "70364  Electric usage  10/24/2018      23:00    23:14   0.03   kWh  $0.01 \n",
              "70365  Electric usage  10/24/2018      23:15    23:29   0.03   kWh  $0.01 \n",
              "70366  Electric usage  10/24/2018      23:30    23:44   0.03   kWh  $0.01 \n",
              "70367  Electric usage  10/24/2018      23:45    23:59   0.03   kWh  $0.01 "
            ]
          },
          "metadata": {},
          "execution_count": 2
        }
      ]
    },
    {
      "cell_type": "code",
      "metadata": {
        "colab": {
          "base_uri": "https://localhost:8080/",
          "height": 202
        },
        "id": "WtQisVzJyJ7B",
        "outputId": "35e87e95-d03b-41f2-dbea-0ad05d8b20d2"
      },
      "source": [
        "data.head()"
      ],
      "execution_count": 3,
      "outputs": [
        {
          "output_type": "execute_result",
          "data": {
            "text/html": [
              "<div>\n",
              "<style scoped>\n",
              "    .dataframe tbody tr th:only-of-type {\n",
              "        vertical-align: middle;\n",
              "    }\n",
              "\n",
              "    .dataframe tbody tr th {\n",
              "        vertical-align: top;\n",
              "    }\n",
              "\n",
              "    .dataframe thead th {\n",
              "        text-align: right;\n",
              "    }\n",
              "</style>\n",
              "<table border=\"1\" class=\"dataframe\">\n",
              "  <thead>\n",
              "    <tr style=\"text-align: right;\">\n",
              "      <th></th>\n",
              "      <th>TYPE</th>\n",
              "      <th>DATE</th>\n",
              "      <th>START TIME</th>\n",
              "      <th>END TIME</th>\n",
              "      <th>USAGE</th>\n",
              "      <th>UNITS</th>\n",
              "      <th>COST</th>\n",
              "    </tr>\n",
              "  </thead>\n",
              "  <tbody>\n",
              "    <tr>\n",
              "      <th>0</th>\n",
              "      <td>Electric usage</td>\n",
              "      <td>10/22/2016</td>\n",
              "      <td>0:00</td>\n",
              "      <td>0:14</td>\n",
              "      <td>0.01</td>\n",
              "      <td>kWh</td>\n",
              "      <td>$0.00</td>\n",
              "    </tr>\n",
              "    <tr>\n",
              "      <th>1</th>\n",
              "      <td>Electric usage</td>\n",
              "      <td>10/22/2016</td>\n",
              "      <td>0:15</td>\n",
              "      <td>0:29</td>\n",
              "      <td>0.01</td>\n",
              "      <td>kWh</td>\n",
              "      <td>$0.00</td>\n",
              "    </tr>\n",
              "    <tr>\n",
              "      <th>2</th>\n",
              "      <td>Electric usage</td>\n",
              "      <td>10/22/2016</td>\n",
              "      <td>0:30</td>\n",
              "      <td>0:44</td>\n",
              "      <td>0.01</td>\n",
              "      <td>kWh</td>\n",
              "      <td>$0.00</td>\n",
              "    </tr>\n",
              "    <tr>\n",
              "      <th>3</th>\n",
              "      <td>Electric usage</td>\n",
              "      <td>10/22/2016</td>\n",
              "      <td>0:45</td>\n",
              "      <td>0:59</td>\n",
              "      <td>0.01</td>\n",
              "      <td>kWh</td>\n",
              "      <td>$0.00</td>\n",
              "    </tr>\n",
              "    <tr>\n",
              "      <th>4</th>\n",
              "      <td>Electric usage</td>\n",
              "      <td>10/22/2016</td>\n",
              "      <td>1:00</td>\n",
              "      <td>1:14</td>\n",
              "      <td>0.01</td>\n",
              "      <td>kWh</td>\n",
              "      <td>$0.00</td>\n",
              "    </tr>\n",
              "  </tbody>\n",
              "</table>\n",
              "</div>"
            ],
            "text/plain": [
              "             TYPE        DATE START TIME END TIME  USAGE UNITS    COST\n",
              "0  Electric usage  10/22/2016       0:00     0:14   0.01   kWh  $0.00 \n",
              "1  Electric usage  10/22/2016       0:15     0:29   0.01   kWh  $0.00 \n",
              "2  Electric usage  10/22/2016       0:30     0:44   0.01   kWh  $0.00 \n",
              "3  Electric usage  10/22/2016       0:45     0:59   0.01   kWh  $0.00 \n",
              "4  Electric usage  10/22/2016       1:00     1:14   0.01   kWh  $0.00 "
            ]
          },
          "metadata": {},
          "execution_count": 3
        }
      ]
    },
    {
      "cell_type": "code",
      "metadata": {
        "colab": {
          "base_uri": "https://localhost:8080/"
        },
        "id": "d8Ad9t8xptnP",
        "outputId": "f63f26f6-fa59-4839-8b87-84596b1b1e6e"
      },
      "source": [
        "# identify unique data based on its date\n",
        "pd.Series(data['DATE'].unique()).sort_index(ascending=True)"
      ],
      "execution_count": 4,
      "outputs": [
        {
          "output_type": "execute_result",
          "data": {
            "text/plain": [
              "0      10/22/2016\n",
              "1      10/23/2016\n",
              "2      10/24/2016\n",
              "3      10/25/2016\n",
              "4      10/26/2016\n",
              "          ...    \n",
              "728    10/20/2018\n",
              "729    10/21/2018\n",
              "730    10/22/2018\n",
              "731    10/23/2018\n",
              "732    10/24/2018\n",
              "Length: 733, dtype: object"
            ]
          },
          "metadata": {},
          "execution_count": 4
        }
      ]
    },
    {
      "cell_type": "code",
      "metadata": {
        "colab": {
          "base_uri": "https://localhost:8080/"
        },
        "id": "w5BHEjaZrE5I",
        "outputId": "703f71af-9d00-42d8-d978-dc883d9ec88f"
      },
      "source": [
        "data1 = pd.date_range('2016-10-22', '2018-10-24', freq='D').to_series()\n",
        "data1.dt.dayofweek # The number of unique columns on df = number of date range from the beginning until the end"
      ],
      "execution_count": 5,
      "outputs": [
        {
          "output_type": "execute_result",
          "data": {
            "text/plain": [
              "2016-10-22    5\n",
              "2016-10-23    6\n",
              "2016-10-24    0\n",
              "2016-10-25    1\n",
              "2016-10-26    2\n",
              "             ..\n",
              "2018-10-20    5\n",
              "2018-10-21    6\n",
              "2018-10-22    0\n",
              "2018-10-23    1\n",
              "2018-10-24    2\n",
              "Freq: D, Length: 733, dtype: int64"
            ]
          },
          "metadata": {},
          "execution_count": 5
        }
      ]
    },
    {
      "cell_type": "code",
      "metadata": {
        "colab": {
          "base_uri": "https://localhost:8080/"
        },
        "id": "x6E7Q6mBsSQI",
        "outputId": "97121494-14f9-4d41-ce2c-52f5183bcf78"
      },
      "source": [
        "data.isnull().sum()"
      ],
      "execution_count": 6,
      "outputs": [
        {
          "output_type": "execute_result",
          "data": {
            "text/plain": [
              "TYPE          0\n",
              "DATE          0\n",
              "START TIME    0\n",
              "END TIME      0\n",
              "USAGE         0\n",
              "UNITS         0\n",
              "COST          0\n",
              "dtype: int64"
            ]
          },
          "metadata": {},
          "execution_count": 6
        }
      ]
    },
    {
      "cell_type": "code",
      "metadata": {
        "colab": {
          "base_uri": "https://localhost:8080/"
        },
        "id": "TZDsD3AA1dz_",
        "outputId": "a968bfeb-ddaa-4e7f-e7f5-f464b555814d"
      },
      "source": [
        "data.dtypes"
      ],
      "execution_count": 7,
      "outputs": [
        {
          "output_type": "execute_result",
          "data": {
            "text/plain": [
              "TYPE           object\n",
              "DATE           object\n",
              "START TIME     object\n",
              "END TIME       object\n",
              "USAGE         float64\n",
              "UNITS          object\n",
              "COST           object\n",
              "dtype: object"
            ]
          },
          "metadata": {},
          "execution_count": 7
        }
      ]
    },
    {
      "cell_type": "code",
      "metadata": {
        "colab": {
          "base_uri": "https://localhost:8080/",
          "height": 354
        },
        "id": "XPrfvL7gseEm",
        "outputId": "dd2e4df7-c30a-4910-a007-4eb0b414ba00"
      },
      "source": [
        "import matplotlib.pyplot as plt\n",
        "x = data['DATE'].values\n",
        "y = data['USAGE'].values\n",
        "\n",
        "plt.figure(figsize=(15,5))\n",
        "plt.plot(x, y)\n",
        "plt.xlabel('Date',size=10)\n",
        "plt.ylabel('Usage',size=20)\n",
        "plt.title('Consumption in kWh',\n",
        "          fontsize=18);"
      ],
      "execution_count": 8,
      "outputs": [
        {
          "output_type": "display_data",
          "data": {
            "image/png": "[encoded data removed]",
            "text/plain": [
              "<Figure size 1080x360 with 1 Axes>"
            ]
          },
          "metadata": {
            "needs_background": "light"
          }
        }
      ]
    },
    {
      "cell_type": "code",
      "metadata": {
        "id": "AZFXk-Z8zBtf"
      },
      "source": [
        "# membagi dataset\n",
        "x_train, x_test, y_train, y_test = train_test_split(x, y, test_size=0.2, shuffle=False)"
      ],
      "execution_count": 32,
      "outputs": []
    },
    {
      "cell_type": "code",
      "metadata": {
        "id": "3a1ehVfczNHY"
      },
      "source": [
        "def windowed_dataset(series, window_size, batch_size, shuffle_buffer):\n",
        "  series = tf.expand_dims(series, axis=-1)\n",
        "  data = tf.data.Dataset.from_tensor_slices(series)\n",
        "  data = data.window(window_size + 1, shift=1, drop_remainder=True)\n",
        "  data = data.flat_map(lambda w:w.batch(window_size + 1))\n",
        "  data = data.shuffle(shuffle_buffer)\n",
        "  data = data.map(lambda w: (w[:-1], w[-1:]))\n",
        "  return data.batch(batch_size).prefetch(1)"
      ],
      "execution_count": 33,
      "outputs": []
    },
    {
      "cell_type": "code",
      "metadata": {
        "id": "LY1KjGkFza5B"
      },
      "source": [
        "train_set = windowed_dataset(y_train, window_size=60, batch_size=100, shuffle_buffer=1000)"
      ],
      "execution_count": 34,
      "outputs": []
    },
    {
      "cell_type": "code",
      "metadata": {
        "id": "2gD32x45OICz"
      },
      "source": [
        "validation_set = windowed_dataset(y_test, window_size=60, batch_size=100, shuffle_buffer=10000)"
      ],
      "execution_count": 35,
      "outputs": []
    },
    {
      "cell_type": "code",
      "metadata": {
        "id": "kC4hVRP20OK0"
      },
      "source": [
        "from keras.layers import Conv1D\n",
        "model=Sequential([\n",
        "  Conv1D(filters=60, kernel_size=5, activation='relu', input_shape=[None, 1]),                \n",
        "  LSTM(128, return_sequences=True),\n",
        "  LSTM(64, return_sequences=False),\n",
        "  Flatten(),\n",
        "  Dense(32, activation=\"relu\"),\n",
        "  Dense(32, activation=\"relu\"),\n",
        "  Dense(units=1)\n",
        "])"
      ],
      "execution_count": 36,
      "outputs": []
    },
    {
      "cell_type": "code",
      "metadata": {
        "id": "uXnxbUne0U-5"
      },
      "source": [
        "optimizer = tf.keras.optimizers.SGD(learning_rate=1.0000e-04, momentum=0.9)\n",
        "model.compile(loss=tf.keras.losses.Huber(),\n",
        "              optimizer=optimizer,\n",
        "              metrics=[\"mae\"])"
      ],
      "execution_count": 37,
      "outputs": []
    },
    {
      "cell_type": "code",
      "metadata": {
        "colab": {
          "base_uri": "https://localhost:8080/"
        },
        "id": "sshHk0uS0ZaK",
        "outputId": "0c868a36-c65c-4408-a9fc-6073eae4dafc"
      },
      "source": [
        "reduce = ReduceLROnPlateau(monitor='loss', patience=3, factor=0.2, learning_rate=1.0000e-04)\n",
        "history = model.fit(train_set, epochs=5, validation_data=validation_set, callbacks=[reduce])"
      ],
      "execution_count": 38,
      "outputs": [
        {
          "output_type": "stream",
          "name": "stdout",
          "text": [
            "Epoch 1/5\n",
            "563/563 [==============================] - 176s 307ms/step - loss: 0.0271 - mae: 0.1033 - val_loss: 0.0052 - val_mae: 0.0656\n",
            "Epoch 2/5\n",
            "563/563 [==============================] - 164s 291ms/step - loss: 0.0244 - mae: 0.1129 - val_loss: 0.0052 - val_mae: 0.0751\n",
            "Epoch 3/5\n",
            "563/563 [==============================] - 163s 290ms/step - loss: 0.0241 - mae: 0.1187 - val_loss: 0.0052 - val_mae: 0.0783\n",
            "Epoch 4/5\n",
            "563/563 [==============================] - 165s 292ms/step - loss: 0.0240 - mae: 0.1205 - val_loss: 0.0053 - val_mae: 0.0792\n",
            "Epoch 5/5\n",
            "563/563 [==============================] - 164s 291ms/step - loss: 0.0239 - mae: 0.1210 - val_loss: 0.0053 - val_mae: 0.0795\n"
          ]
        }
      ]
    }
  ]
}